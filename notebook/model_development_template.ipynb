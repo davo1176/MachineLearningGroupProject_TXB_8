{
 "cells": [
  {
   "cell_type": "markdown",
   "metadata": {},
   "source": [
    "## Model Loading and Feature Engineering"
   ]
  },
  {
   "cell_type": "code",
   "execution_count": 1,
   "metadata": {},
   "outputs": [],
   "source": [
    "import pandas as pd\n",
    "import numpy as np\n",
    "from sklearn.preprocessing import LabelEncoder, OneHotEncoder, StandardScaler, MinMaxScaler\n",
    "\n",
    "df = pd.read_csv(\"..\\\\data\\\\ndtv_data_final.csv\", index_col=0) \n",
    "\n",
    "# --- Step 0: Data Transformation ---\n",
    "# Change Price to USD\n",
    "df[\"Price (USD)\"] = round(df.Price*0.011).astype(int)\n",
    "df.drop([\"Price\"], axis=1, inplace=True)\n",
    "\n",
    "# Change RAM to GB\n",
    "df[\"RAM (GB)\"] = round(df[\"RAM (MB)\"]/1000, 2)\n",
    "df.drop([\"RAM (MB)\"], axis=1, inplace=True)\n",
    "\n",
    "# Binary Variables\n",
    "binaryVariableList = list()\n",
    "\n",
    "for x in df.columns:\n",
    "    if df[x].value_counts().index.to_list() == ['Yes', 'No']:\n",
    "        binaryVariableList.append(x)\n",
    "\n",
    "for x in binaryVariableList:\n",
    "    df[x]=df[x].map({\"Yes\": 1, \"No\":0})\n",
    "\n",
    "# Pixel\n",
    "df[\"Pixel per inch (PPI)\"] = np.sqrt((df[\"Resolution x\"]**2 + df[\"Resolution y\"]**2))/df[\"Screen size (inches)\"]\n",
    "df[\"Pixel per inch (PPI)\"] = df[\"Pixel per inch (PPI)\"].round(2)\n",
    "\n",
    "# Brand help\n",
    "brands_by_country = {\n",
    "    \"USA\": [\"Apple\", \"Google\", \"HP\", \"Microsoft\", \"Razer\", \"Cat\", \"Blu\", \"BlackBerry\", \"Motorola\", \"Nuu Mobile\"],\n",
    "    \"South Korea\": [\"Samsung\", \"LG\"],\n",
    "    \"China\": [\"10.or\", \"Black Shark\", \"Coolpad\", \"Gionee\", \"Honor\", \"Huawei\", \"Lenovo\", \"Meizu\", \"Nubia\", \"OnePlus\", \"Oppo\", \"Realme\", \"Vivo\", \"Xiaomi\", \"ZTE\", \"Zopo\", \"Phicomm\", \"Zuk\", \"LeEco\", \"Homtom\", \"Poco\", \"Sansui\", \"TCL\"],\n",
    "    \"Taiwan\": [\"Acer\", \"Asus\", \"HTC\"],\n",
    "    \"Japan\": [\"Sony\", \"Panasonic\", \"Sharp\"],\n",
    "    \"India\": [\"Aqua\", \"Billion\", \"Celkon\", \"Comio\", \"InFocus\", \"Intex\", \"Itel\", \"Jio\", \"Jivi\", \"Karbonn\", \"Kult\", \"Lava\", \"Lephone\", \"Lyf\", \"M-tech\", \"Micromax\", \"Mobiistar\", \"Onida\", \"Reach\", \"Smartron\", \"Spice\", \"Swipe\", \"Tambo\", \"Videocon\", \"Xolo\", \"Yu\", \"Zen\", \"Ziox\", \"mPhone\", \"iBall\", \"iVoomi\"],\n",
    "    \"EU\": [\"Nokia\", \"Alcatel\",\"Gigaset\", \"Philips\"],\n",
    "    \"Hong Kong\": [\"Infinix\", \"Tecno\", \"Itel\"],\n",
    "}\n",
    "\n",
    "# branc top price\n",
    "topPrice = dict()\n",
    "for x in df[\"Brand\"].unique():\n",
    "    topPrice[x] = df[df[\"Brand\"] == x][\"Price (USD)\"].max()\n",
    "\n",
    "df[\"Brand Top Price\"] = df[\"Brand\"].map(topPrice)\n",
    "\n",
    "\n",
    "# Reverse the keys and values in the dictionary\n",
    "brand_to_country = {}\n",
    "for country, brands in brands_by_country.items():\n",
    "    for brand in brands:\n",
    "        brand_to_country[brand] = country\n",
    "\n",
    "# Map them to the dataset\n",
    "df[\"Brand Origin\"] = df[\"Brand\"].map(brand_to_country)\n",
    "\n",
    "# Setting price ranges\n",
    "priceRangeLabel = [\"Ultra Budget\", \"Budget\", \"Mid Range\", \"Upper Mid\", \"Premium\", \"Flagship\"]\n",
    "priceRangeBins = [0, 100, 250, 400, 700, 1000, np.inf]\n",
    "df[\"Price Range\"] = pd.cut(df[\"Price (USD)\"], bins=priceRangeBins, labels=priceRangeLabel)\n",
    "\n",
    "# --- Step 1: Encode Operating System ---\n",
    "def categorize_os(os):\n",
    "    os = os.lower()\n",
    "    if 'android' in os:\n",
    "        return 'Android'\n",
    "    elif 'windows' in os:\n",
    "        return 'Windows'\n",
    "    elif 'ios' in os:\n",
    "        return 'iOS'\n",
    "    else:\n",
    "        return 'Other'\n",
    "\n",
    "df['Operating system'] = df['Operating system'].apply(categorize_os)\n",
    "\n",
    "# --- Step 2: One-Hot Encode Nominal Data (Brand Origin & Operating System) --- \n",
    "# df = pd.get_dummies(df, columns=['Brand Origin', 'Operating system'], drop_first=True) -- Uncommet if needed\n",
    "\n",
    "# --- Step 3: Convert Price Range into Ordinal Encoding ---\n",
    "price_range_mapping = {\n",
    "    \"Ultra Budget\": 0, \n",
    "    \"Budget\": 1, \n",
    "    \"Mid Range\": 2, \n",
    "    \"Upper Mid\": 3, \n",
    "    \"Premium\": 4, \n",
    "    \"Flagship\": 5\n",
    "    }\n",
    "df['Price Range'] = df['Price Range'].map(price_range_mapping)\n",
    "\n",
    "# --- Step 4: Create Interaction Terms ---\n",
    "df['Camera Score'] = df['Rear camera'] + df['Front camera']\n",
    "df['Performance Score'] = (df['RAM (GB)'] * 2) + (df['Internal storage (GB)'] / 64)\n",
    "df['Battery-to-Screen Ratio'] = df['Battery capacity (mAh)'] / df['Screen size (inches)']\n",
    "\n",
    "# --- Step 5: Normalize and Standardize Numerical Values ---\n",
    "# Identify numerical columns\n",
    "numerical_cols = [\n",
    "    'Brand Top Price', 'Battery capacity (mAh)', 'Resolution x', 'Resolution y',\n",
    "    'Screen size (inches)', 'Pixel per inch (PPI)', 'RAM (GB)', 'Internal storage (GB)',\n",
    "    'Rear camera', 'Front camera', 'Number of SIMs',\n",
    "    'Camera Score', 'Performance Score', 'Battery-to-Screen Ratio'\n",
    "]\n",
    "\n",
    "# Standardization (Z-score normalization)\n",
    "scaler = StandardScaler()\n",
    "df[numerical_cols] = scaler.fit_transform(df[numerical_cols])"
   ]
  },
  {
   "cell_type": "markdown",
   "metadata": {},
   "source": [
    "## Seperate Features and Labels for Machine Learning"
   ]
  },
  {
   "cell_type": "code",
   "execution_count": null,
   "metadata": {},
   "outputs": [],
   "source": [
    "# X (features)\n",
    "X=df.drop(columns=['Name', 'Brand', 'Model', 'Price (USD)','Price Range'], axis=1)\n",
    "X=pd.get_dummies(X)\n",
    "\n",
    "# y (labels)\n",
    "y=df[\"Price Range\"]"
   ]
  },
  {
   "cell_type": "markdown",
   "metadata": {},
   "source": [
    "## Your Model (Split-Train-Test)"
   ]
  },
  {
   "cell_type": "code",
   "execution_count": null,
   "metadata": {},
   "outputs": [],
   "source": [
    "# Put your model development procedure here"
   ]
  }
 ],
 "metadata": {
  "kernelspec": {
   "display_name": "Python 3",
   "language": "python",
   "name": "python3"
  },
  "language_info": {
   "codemirror_mode": {
    "name": "ipython",
    "version": 3
   },
   "file_extension": ".py",
   "mimetype": "text/x-python",
   "name": "python",
   "nbconvert_exporter": "python",
   "pygments_lexer": "ipython3",
   "version": "3.12.5"
  }
 },
 "nbformat": 4,
 "nbformat_minor": 2
}
